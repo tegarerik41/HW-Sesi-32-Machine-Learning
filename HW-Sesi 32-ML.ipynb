{
  "nbformat": 4,
  "nbformat_minor": 0,
  "metadata": {
    "colab": {
      "provenance": []
    },
    "kernelspec": {
      "name": "python3",
      "display_name": "Python 3"
    },
    "language_info": {
      "name": "python"
    }
  },
  "cells": [
    {
      "cell_type": "markdown",
      "source": [
        "# Import Library"
      ],
      "metadata": {
        "id": "bui6TrKUO19A"
      }
    },
    {
      "cell_type": "code",
      "source": [
        "import numpy as np\n",
        "import pandas as pd\n",
        "from sklearn.datasets import load_diabetes\n",
        "from sklearn.model_selection import train_test_split\n",
        "from sklearn.ensemble import RandomForestRegressor\n",
        "from sklearn.metrics import mean_squared_error, mean_absolute_error\n",
        "import matplotlib.pyplot as plt"
      ],
      "metadata": {
        "id": "YXZUGCuUO1m-"
      },
      "execution_count": 1,
      "outputs": []
    },
    {
      "cell_type": "markdown",
      "source": [
        "# Load Dataset"
      ],
      "metadata": {
        "id": "PEODvWLTO9P3"
      }
    },
    {
      "cell_type": "code",
      "source": [
        "diabetes = load_diabetes()\n",
        "X, y = diabetes.data, diabetes.target"
      ],
      "metadata": {
        "id": "0s8DUSgzPApw"
      },
      "execution_count": 2,
      "outputs": []
    },
    {
      "cell_type": "markdown",
      "source": [
        "# Train Test Split"
      ],
      "metadata": {
        "id": "GsjWNYu8PCEb"
      }
    },
    {
      "cell_type": "code",
      "source": [
        "X_train, X_test, y_train, y_test = train_test_split(X, y, test_size=0.2, random_state=42)"
      ],
      "metadata": {
        "id": "N24gv26WPBZl"
      },
      "execution_count": 3,
      "outputs": []
    },
    {
      "cell_type": "code",
      "source": [
        "n_estimators_list = [50, 100, 200]"
      ],
      "metadata": {
        "id": "giuDAgiOPJjI"
      },
      "execution_count": 4,
      "outputs": []
    },
    {
      "cell_type": "code",
      "source": [
        "metrics = {'n_estimators': [], 'RMSE': [], 'MAE': []}"
      ],
      "metadata": {
        "id": "ZZu7J4CLPK7m"
      },
      "execution_count": 5,
      "outputs": []
    },
    {
      "cell_type": "markdown",
      "source": [
        "# PreProcessing"
      ],
      "metadata": {
        "id": "xLRkZYo3PMEg"
      }
    },
    {
      "cell_type": "code",
      "source": [
        "for n_estimators in n_estimators_list:\n",
        "    # Inisialisasi dan melatih model\n",
        "    model = RandomForestRegressor(n_estimators=n_estimators, random_state=42)\n",
        "    model.fit(X_train, y_train)\n",
        "    y_pred = model.predict(X_test)\n",
        "\n",
        "    # Menghitung metrik RMSE dan MAE\n",
        "    rmse = np.sqrt(mean_squared_error(y_test, y_pred))\n",
        "    mae = mean_absolute_error(y_test, y_pred)\n",
        "\n",
        "    # Menyimpan hasil metrik\n",
        "    metrics['n_estimators'].append(n_estimators)\n",
        "    metrics['RMSE'].append(rmse)\n",
        "    metrics['MAE'].append(mae)"
      ],
      "metadata": {
        "id": "-BCktjNuPPx7"
      },
      "execution_count": 6,
      "outputs": []
    },
    {
      "cell_type": "markdown",
      "source": [
        "# Result"
      ],
      "metadata": {
        "id": "oWRO2879PTFd"
      }
    },
    {
      "cell_type": "code",
      "source": [
        "result_df = pd.DataFrame(metrics)\n",
        "print(result_df)"
      ],
      "metadata": {
        "colab": {
          "base_uri": "https://localhost:8080/"
        },
        "id": "a2T7q8YFKmwL",
        "outputId": "52453751-8d03-4500-d774-b8c23afe7c8b"
      },
      "execution_count": 7,
      "outputs": [
        {
          "output_type": "stream",
          "name": "stdout",
          "text": [
            "   n_estimators       RMSE        MAE\n",
            "0            50  55.174261  44.765393\n",
            "1           100  54.332408  44.053034\n",
            "2           200  54.461217  44.276124\n"
          ]
        }
      ]
    },
    {
      "cell_type": "markdown",
      "source": [
        "# Loading Best Model"
      ],
      "metadata": {
        "id": "HTGvIHxtPa-Z"
      }
    },
    {
      "cell_type": "code",
      "source": [
        "best_model_idx = result_df['RMSE'].idxmin()\n",
        "best_n_estimators = result_df.loc[best_model_idx, 'n_estimators']\n",
        "best_rmse = result_df.loc[best_model_idx, 'RMSE']\n",
        "best_mae = result_df.loc[best_model_idx, 'MAE']"
      ],
      "metadata": {
        "id": "KKFr0xHRPZlc"
      },
      "execution_count": 8,
      "outputs": []
    },
    {
      "cell_type": "code",
      "source": [
        "print(f\"\\nBest Model (n_estimators={best_n_estimators}):\")\n",
        "print(f\"RMSE: {best_rmse}\")\n",
        "print(f\"MAE: {best_mae}\")"
      ],
      "metadata": {
        "colab": {
          "base_uri": "https://localhost:8080/"
        },
        "id": "VtGF01qTOtQQ",
        "outputId": "1229bdd2-403a-4c7a-a113-bc2c3d0d35d6"
      },
      "execution_count": 9,
      "outputs": [
        {
          "output_type": "stream",
          "name": "stdout",
          "text": [
            "\n",
            "Best Model (n_estimators=100):\n",
            "RMSE: 54.332408273184846\n",
            "MAE: 44.053033707865175\n"
          ]
        }
      ]
    },
    {
      "cell_type": "markdown",
      "source": [
        "# Visualisasi"
      ],
      "metadata": {
        "id": "9mbTCmMHPhg9"
      }
    },
    {
      "cell_type": "code",
      "source": [
        "plt.figure(figsize=(10, 6))\n",
        "plt.scatter(y_test, y_pred, color='blue')\n",
        "plt.plot([min(y_test), max(y_test)], [min(y_test), max(y_test)], linestyle='--', color='red', linewidth=2)\n",
        "plt.title('Actual vs Predicted (Best Model)')\n",
        "plt.xlabel('Actual')\n",
        "plt.ylabel('Predicted')\n",
        "plt.show()"
      ],
      "metadata": {
        "colab": {
          "base_uri": "https://localhost:8080/",
          "height": 564
        },
        "id": "S_2xI3OWPls0",
        "outputId": "f555e2ba-d41a-4708-e8c6-6f673e321da1"
      },
      "execution_count": 10,
      "outputs": [
        {
          "output_type": "display_data",
          "data": {
            "text/plain": [
              "<Figure size 1000x600 with 1 Axes>"
            ],
            "image/png": "[encoded data removed]"
          },
          "metadata": {}
        }
      ]
    }
  ]
}